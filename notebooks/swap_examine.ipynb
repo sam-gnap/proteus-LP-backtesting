{
 "cells": [
  {
   "cell_type": "code",
   "execution_count": 1,
   "metadata": {},
   "outputs": [],
   "source": [
    "import pandas as pd\n",
    "from src.data_processing.fetch_data import fetch_pool_data\n",
    "from datetime import date\n",
    "import glob\n",
    "import os\n",
    "from src.utils.helper import sqrtPriceX96_to_price\n",
    "pd.set_option('display.max_columns',100)\n",
    "from src.data_processing.swap_data_collector import SwapDataCollector\n",
    "from config.api_config import API_KEY"
   ]
  },
  {
   "cell_type": "code",
   "execution_count": 2,
   "metadata": {},
   "outputs": [],
   "source": [
    "# we could implement volume-based sampling but I think block numbers are fine for now"
   ]
  },
  {
   "cell_type": "code",
   "execution_count": 3,
   "metadata": {},
   "outputs": [],
   "source": [
    "decimals0 = 6\n",
    "decimals1 = 18"
   ]
  },
  {
   "cell_type": "code",
   "execution_count": 4,
   "metadata": {},
   "outputs": [],
   "source": [
    "collector = SwapDataCollector(\n",
    "    project_id=\"uniswap-v3-analytics\",\n",
    "    pool_address=\"0x8ad599c3a0ff1de082011efddc58f1908eb6e6d8\",\n",
    "    token0=\"USDC\",\n",
    "    token1=\"WETH\",\n",
    "    decimals0=6,\n",
    "    decimals1=18,\n",
    "    tick_spacing=60,\n",
    "    start_date=date(2024, 8, 1),\n",
    "    end_date=date(2024, 8, 31)\n",
    ")"
   ]
  },
  {
   "cell_type": "code",
   "execution_count": 5,
   "metadata": {},
   "outputs": [],
   "source": [
    "dfs = []\n",
    "swaps_dir = \"/Users/gnapsamuel/Documents/AMM/proteus-LP-backtesting/data/uniswap/WETH-USDC/swaps\"\n",
    "all_files = glob.glob(os.path.join(swaps_dir, \"swaps_*.parquet\"))\n",
    "for filename in all_files:\n",
    "    dfs.append(pd.read_parquet(filename))\n",
    "all_swaps = pd.concat(dfs, ignore_index=True)"
   ]
  },
  {
   "cell_type": "code",
   "execution_count": 6,
   "metadata": {},
   "outputs": [],
   "source": [
    "processed_swaps = collector.process_swap_data(all_swaps)\n",
    "sampled_blocks = collector.sample_blocks_adaptive(processed_swaps, threshold_dollars=100000)"
   ]
  },
  {
   "cell_type": "code",
   "execution_count": null,
   "metadata": {},
   "outputs": [],
   "source": []
  }
 ],
 "metadata": {
  "kernelspec": {
   "display_name": ".venv",
   "language": "python",
   "name": "python3"
  },
  "language_info": {
   "codemirror_mode": {
    "name": "ipython",
    "version": 3
   },
   "file_extension": ".py",
   "mimetype": "text/x-python",
   "name": "python",
   "nbconvert_exporter": "python",
   "pygments_lexer": "ipython3",
   "version": "3.12.4"
  }
 },
 "nbformat": 4,
 "nbformat_minor": 2
}
