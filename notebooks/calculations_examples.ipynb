{
 "cells": [
  {
   "cell_type": "code",
   "execution_count": 3,
   "metadata": {},
   "outputs": [
    {
     "name": "stdout",
     "output_type": "stream",
     "text": [
      "Fetched 1 records\n"
     ]
    }
   ],
   "source": [
    "from src.data_processing.fetch_data import fetch_data_subgraph\n",
    "from src.models.liquidity_distribution import Pool, LiquidityPeriphery\n",
    "\n",
    "%load_ext autoreload\n",
    "%autoreload 2\n",
    "\n",
    "\n",
    "API_KEY = \"893d7471304c5edf436c8ba60781762c\"\n",
    "POOL_ADDRESS = \"0x88e6a0c2ddd26feeb64f039a2c41296fcb3f5640\".lower()\n",
    "pool_query = \"\"\"query get_pools($pool_id: ID!) {\n",
    "  pools(where: {id: $pool_id}) {\n",
    "    tick\n",
    "    sqrtPrice\n",
    "    liquidity\n",
    "    feeTier\n",
    "    totalValueLockedUSD\n",
    "    totalValueLockedETH\n",
    "    token0 {\n",
    "      symbol\n",
    "      decimals\n",
    "    }\n",
    "    token1 {\n",
    "      symbol\n",
    "      decimals\n",
    "    }\n",
    "  }\n",
    "}\"\"\"\n",
    "# POOL_ADDRESS = \"0xc7bBeC68d12a0d1830360F8Ec58fA599bA1b0e9b\".lower()\n",
    "variables = {'pool_id': POOL_ADDRESS}\n",
    "data_pool = fetch_data_subgraph(API_KEY, pool_query, variables, data_key='pools', first_n=100, batch_size=1000)[0]\n",
    "pool = Pool(pool_address=POOL_ADDRESS,\n",
    "            token0=data_pool['token0']['symbol'],\n",
    "            token1=data_pool['token1']['symbol'],\n",
    "            decimals0=data_pool['token0']['decimals'],\n",
    "            decimals1=data_pool['token1']['decimals'],\n",
    "            fee_tier=data_pool['feeTier'],\n",
    "            sqrt_price_x96=data_pool[\"sqrtPrice\"])"
   ]
  },
  {
   "cell_type": "markdown",
   "metadata": {},
   "source": [
    "### Example calculation from ticks "
   ]
  },
  {
   "cell_type": "code",
   "execution_count": 4,
   "metadata": {},
   "outputs": [
    {
     "data": {
      "text/plain": [
       "('USDC', 'WETH')"
      ]
     },
     "execution_count": 4,
     "metadata": {},
     "output_type": "execute_result"
    }
   ],
   "source": [
    "pool.token0, pool.token1"
   ]
  },
  {
   "cell_type": "code",
   "execution_count": 15,
   "metadata": {},
   "outputs": [],
   "source": [
    "lower_tick = 198280\n",
    "upper_tick = 199280\n",
    "current_tick = 198780\n",
    "\n",
    "initial_capital_amount_0 = 2328*2 #USDC\n",
    "initial_capital_amount_1 = 1*2 #WETH"
   ]
  },
  {
   "cell_type": "markdown",
   "metadata": {},
   "source": [
    "First we initialize class the functions to convert ticks to sqrt of price in q96 which is used for precision. "
   ]
  },
  {
   "cell_type": "code",
   "execution_count": 16,
   "metadata": {},
   "outputs": [],
   "source": [
    "liquidity_calculator = LiquidityPeriphery(pool)"
   ]
  },
  {
   "cell_type": "markdown",
   "metadata": {},
   "source": [
    "We can can calcualte sqrt of price from tick, this is the implementation of getSqrtRatioAtTick function from Tickmath: https://github.com/Uniswap/v3-core/blob/main/contracts/libraries/TickMath.sol"
   ]
  },
  {
   "cell_type": "code",
   "execution_count": 17,
   "metadata": {},
   "outputs": [],
   "source": [
    "sqrt_ratio_x96 = liquidity_calculator.get_sqrt_ratio_at_tick(current_tick)\n",
    "sqrt_ratio_a_x96 = liquidity_calculator.get_sqrt_ratio_at_tick(lower_tick)\n",
    "sqrt_ratio_b_x96 = liquidity_calculator.get_sqrt_ratio_at_tick(upper_tick)"
   ]
  },
  {
   "cell_type": "markdown",
   "metadata": {},
   "source": [
    "Once we have that we also need amounts of token0 and token1. However, we need to convert these to wei. "
   ]
  },
  {
   "cell_type": "code",
   "execution_count": 18,
   "metadata": {},
   "outputs": [],
   "source": [
    "amount0wei: int = pool.to_wei(initial_capital_amount_0, pool.decimals0)"
   ]
  },
  {
   "cell_type": "code",
   "execution_count": 19,
   "metadata": {},
   "outputs": [
    {
     "data": {
      "text/plain": [
       "4656000000"
      ]
     },
     "execution_count": 19,
     "metadata": {},
     "output_type": "execute_result"
    }
   ],
   "source": [
    "amount0wei"
   ]
  },
  {
   "cell_type": "code",
   "execution_count": 20,
   "metadata": {},
   "outputs": [],
   "source": [
    "amount1wei: int = pool.to_wei(initial_capital_amount_1, pool.decimals1)"
   ]
  },
  {
   "cell_type": "code",
   "execution_count": 21,
   "metadata": {},
   "outputs": [
    {
     "data": {
      "text/plain": [
       "2000000000000000000"
      ]
     },
     "execution_count": 21,
     "metadata": {},
     "output_type": "execute_result"
    }
   ],
   "source": [
    "amount1wei"
   ]
  },
  {
   "cell_type": "code",
   "execution_count": 22,
   "metadata": {},
   "outputs": [],
   "source": [
    "_, _, _, _, _, liquidity = liquidity_calculator.get_liquidity_for_amounts(sqrt_ratio_x96, sqrt_ratio_a_x96, sqrt_ratio_b_x96, amount0wei, amount1wei)"
   ]
  },
  {
   "cell_type": "markdown",
   "metadata": {},
   "source": [
    "The liquidity we provide can be found below, this is a single value that we provide during the whole duration when the current price is within our defined LP range. "
   ]
  },
  {
   "cell_type": "code",
   "execution_count": 23,
   "metadata": {},
   "outputs": [
    {
     "data": {
      "text/plain": [
       "3906149178000611"
      ]
     },
     "execution_count": 23,
     "metadata": {},
     "output_type": "execute_result"
    }
   ],
   "source": [
    "liquidity"
   ]
  },
  {
   "cell_type": "code",
   "execution_count": 25,
   "metadata": {},
   "outputs": [
    {
     "data": {
      "text/plain": [
       "0.0004956132743176781"
      ]
     },
     "execution_count": 25,
     "metadata": {},
     "output_type": "execute_result"
    }
   ],
   "source": [
    "(liquidity/7.881445837741723e+20)*100"
   ]
  },
  {
   "cell_type": "markdown",
   "metadata": {},
   "source": [
    "Now let's say we have a tick but we want a normal price"
   ]
  },
  {
   "cell_type": "code",
   "execution_count": 26,
   "metadata": {},
   "outputs": [
    {
     "data": {
      "text/plain": [
       "198780"
      ]
     },
     "execution_count": 26,
     "metadata": {},
     "output_type": "execute_result"
    }
   ],
   "source": [
    "current_tick"
   ]
  },
  {
   "cell_type": "code",
   "execution_count": 42,
   "metadata": {},
   "outputs": [],
   "source": [
    "price_log = pool.tick_to_price(current_tick)\n",
    "price = pool.adjust_price(price_log)"
   ]
  },
  {
   "cell_type": "code",
   "execution_count": 43,
   "metadata": {},
   "outputs": [
    {
     "data": {
      "text/plain": [
       "Decimal('2330.9121477521769712234030273333732262490591407082')"
      ]
     },
     "execution_count": 43,
     "metadata": {},
     "output_type": "execute_result"
    }
   ],
   "source": [
    "price"
   ]
  },
  {
   "cell_type": "code",
   "execution_count": null,
   "metadata": {},
   "outputs": [],
   "source": []
  },
  {
   "cell_type": "markdown",
   "metadata": {},
   "source": []
  }
 ],
 "metadata": {
  "kernelspec": {
   "display_name": ".venv",
   "language": "python",
   "name": "python3"
  },
  "language_info": {
   "codemirror_mode": {
    "name": "ipython",
    "version": 3
   },
   "file_extension": ".py",
   "mimetype": "text/x-python",
   "name": "python",
   "nbconvert_exporter": "python",
   "pygments_lexer": "ipython3",
   "version": "3.12.4"
  }
 },
 "nbformat": 4,
 "nbformat_minor": 2
}
