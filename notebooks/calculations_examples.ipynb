{
 "cells": [
  {
   "cell_type": "code",
   "execution_count": 5,
   "metadata": {},
   "outputs": [
    {
     "name": "stdout",
     "output_type": "stream",
     "text": [
      "The autoreload extension is already loaded. To reload it, use:\n",
      "  %reload_ext autoreload\n",
      "Fetched 1 records\n"
     ]
    }
   ],
   "source": [
    "from src.data_processing.fetch_data import fetch_data_subgraph\n",
    "from src.models.liquidity_distribution import Pool, LiquidityPeriphery\n",
    "\n",
    "%load_ext autoreload\n",
    "%autoreload 2\n",
    "\n",
    "\n",
    "API_KEY = \"893d7471304c5edf436c8ba60781762c\"\n",
    "POOL_ADDRESS = \"0x88e6a0c2ddd26feeb64f039a2c41296fcb3f5640\".lower()\n",
    "pool_query = \"\"\"query get_pools($pool_id: ID!) {\n",
    "  pools(where: {id: $pool_id}) {\n",
    "    tick\n",
    "    sqrtPrice\n",
    "    liquidity\n",
    "    feeTier\n",
    "    totalValueLockedUSD\n",
    "    totalValueLockedETH\n",
    "    token0 {\n",
    "      symbol\n",
    "      decimals\n",
    "    }\n",
    "    token1 {\n",
    "      symbol\n",
    "      decimals\n",
    "    }\n",
    "  }\n",
    "}\"\"\"\n",
    "# POOL_ADDRESS = \"0xc7bBeC68d12a0d1830360F8Ec58fA599bA1b0e9b\".lower()\n",
    "variables = {'pool_id': POOL_ADDRESS}\n",
    "data_pool = fetch_data_subgraph(API_KEY, pool_query, variables, data_key='pools', first_n=100, batch_size=1000)[0]\n",
    "pool = Pool(pool_address=POOL_ADDRESS,\n",
    "            token0=data_pool['token0']['symbol'],\n",
    "            token1=data_pool['token1']['symbol'],\n",
    "            decimals0=data_pool['token0']['decimals'],\n",
    "            decimals1=data_pool['token1']['decimals'],\n",
    "            fee_tier=data_pool['feeTier'],\n",
    "            sqrt_price_x96=data_pool[\"sqrtPrice\"])"
   ]
  },
  {
   "cell_type": "markdown",
   "metadata": {},
   "source": [
    "### Example calculation from ticks "
   ]
  },
  {
   "cell_type": "code",
   "execution_count": 3,
   "metadata": {},
   "outputs": [
    {
     "data": {
      "text/plain": [
       "('USDC', 'WETH')"
      ]
     },
     "execution_count": 3,
     "metadata": {},
     "output_type": "execute_result"
    }
   ],
   "source": [
    "pool.token0, pool.token1"
   ]
  },
  {
   "cell_type": "code",
   "execution_count": 6,
   "metadata": {},
   "outputs": [],
   "source": [
    "lower_tick = 200070\n",
    "upper_tick = 202250\n",
    "current_tick = 201101\n",
    "\n",
    "initial_capital_amount_0 = 1000 #USDC\n",
    "initial_capital_amount_1 = .5409 #WETH"
   ]
  },
  {
   "cell_type": "markdown",
   "metadata": {},
   "source": [
    "First we initialize class the functions to convert ticks to sqrt of price in q96 which is used for precision. "
   ]
  },
  {
   "cell_type": "code",
   "execution_count": 7,
   "metadata": {},
   "outputs": [],
   "source": [
    "liquidity_calculator = LiquidityPeriphery(pool)"
   ]
  },
  {
   "cell_type": "markdown",
   "metadata": {},
   "source": [
    "We can can calcualte sqrt of price from tick, this is the implementation of getSqrtRatioAtTick function from Tickmath: https://github.com/Uniswap/v3-core/blob/main/contracts/libraries/TickMath.sol"
   ]
  },
  {
   "cell_type": "code",
   "execution_count": 8,
   "metadata": {},
   "outputs": [],
   "source": [
    "sqrt_ratio_x96 = liquidity_calculator.get_sqrt_ratio_at_tick(current_tick)\n",
    "sqrt_ratio_a_x96 = liquidity_calculator.get_sqrt_ratio_at_tick(lower_tick)\n",
    "sqrt_ratio_b_x96 = liquidity_calculator.get_sqrt_ratio_at_tick(upper_tick)"
   ]
  },
  {
   "cell_type": "markdown",
   "metadata": {},
   "source": [
    "Once we have that we also need amounts of token0 and token1. However, we need to convert these to wei. "
   ]
  },
  {
   "cell_type": "code",
   "execution_count": 12,
   "metadata": {},
   "outputs": [],
   "source": [
    "amount0wei: int = pool.to_wei(initial_capital_amount_0, pool.decimals0)"
   ]
  },
  {
   "cell_type": "code",
   "execution_count": 19,
   "metadata": {},
   "outputs": [
    {
     "data": {
      "text/plain": [
       "1000000000"
      ]
     },
     "execution_count": 19,
     "metadata": {},
     "output_type": "execute_result"
    }
   ],
   "source": [
    "amount0wei"
   ]
  },
  {
   "cell_type": "code",
   "execution_count": 14,
   "metadata": {},
   "outputs": [],
   "source": [
    "amount1wei: int = pool.to_wei(initial_capital_amount_1, pool.decimals1)"
   ]
  },
  {
   "cell_type": "code",
   "execution_count": 20,
   "metadata": {},
   "outputs": [
    {
     "data": {
      "text/plain": [
       "540900000000000064"
      ]
     },
     "execution_count": 20,
     "metadata": {},
     "output_type": "execute_result"
    }
   ],
   "source": [
    "amount1wei"
   ]
  },
  {
   "cell_type": "code",
   "execution_count": 23,
   "metadata": {},
   "outputs": [],
   "source": [
    "_, _, _, _, _, liquidity = liquidity_calculator.get_liquidity_for_amounts(sqrt_ratio_x96, sqrt_ratio_a_x96, sqrt_ratio_b_x96, amount0wei, amount1wei)"
   ]
  },
  {
   "cell_type": "code",
   "execution_count": 25,
   "metadata": {},
   "outputs": [
    {
     "ename": "SyntaxError",
     "evalue": "invalid syntax (4148340436.py, line 1)",
     "output_type": "error",
     "traceback": [
      "\u001b[0;36m  Cell \u001b[0;32mIn[25], line 1\u001b[0;36m\u001b[0m\n\u001b[0;31m    The liquidity we provide can be found below, this is a single value that we provide during the whole duration when the current price is within our defined LP range.\u001b[0m\n\u001b[0m        ^\u001b[0m\n\u001b[0;31mSyntaxError\u001b[0m\u001b[0;31m:\u001b[0m invalid syntax\n"
     ]
    }
   ],
   "source": [
    "The liquidity we provide can be found below, this is a single value that we provide during the whole duration when the current price is within our defined LP range. "
   ]
  },
  {
   "cell_type": "code",
   "execution_count": 24,
   "metadata": {},
   "outputs": [
    {
     "data": {
      "text/plain": [
       "416659080672654"
      ]
     },
     "execution_count": 24,
     "metadata": {},
     "output_type": "execute_result"
    }
   ],
   "source": [
    "liquidity"
   ]
  },
  {
   "cell_type": "code",
   "execution_count": null,
   "metadata": {},
   "outputs": [],
   "source": []
  },
  {
   "cell_type": "code",
   "execution_count": null,
   "metadata": {},
   "outputs": [],
   "source": []
  },
  {
   "cell_type": "code",
   "execution_count": null,
   "metadata": {},
   "outputs": [],
   "source": []
  },
  {
   "cell_type": "markdown",
   "metadata": {},
   "source": []
  }
 ],
 "metadata": {
  "kernelspec": {
   "display_name": ".venv",
   "language": "python",
   "name": "python3"
  },
  "language_info": {
   "codemirror_mode": {
    "name": "ipython",
    "version": 3
   },
   "file_extension": ".py",
   "mimetype": "text/x-python",
   "name": "python",
   "nbconvert_exporter": "python",
   "pygments_lexer": "ipython3",
   "version": "3.12.4"
  }
 },
 "nbformat": 4,
 "nbformat_minor": 2
}
