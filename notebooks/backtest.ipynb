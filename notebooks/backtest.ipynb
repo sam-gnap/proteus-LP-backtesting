{
 "cells": [
  {
   "cell_type": "code",
   "execution_count": 1,
   "metadata": {},
   "outputs": [
    {
     "name": "stdout",
     "output_type": "stream",
     "text": [
      "Fetched 1 records\n"
     ]
    }
   ],
   "source": [
    "from datetime import date\n",
    "import pandas as pd\n",
    "import numpy as np\n",
    "import matplotlib.pyplot as plt\n",
    "import warnings\n",
    "import matplotlib.animation as animation\n",
    "warnings.filterwarnings('ignore')\n",
    "from src.data_processing.fetch_data import fetch_data_subgraph\n",
    "from src.models.liquidity_distribution import LiquidityAnalyzer, Pool, LiquidityPeriphery\n",
    "from src.models.backtest import LiquidityProvisionBacktester\n",
    "pd.set_option(\"display.max_columns\",100)\n",
    "%load_ext autoreload\n",
    "%autoreload 2\n",
    "\n",
    "POOLS = [\n",
    "    (3, \"0x8ad599c3a0ff1de082011efddc58f1908eb6e6d8\", \"v3 USDC/ETH 0.3%\", ),\n",
    "    (3, \"0x88e6a0c2ddd26feeb64f039a2c41296fcb3f5640\", \"v3 USDC/ETH 0.05%\", ),\n",
    "]\n",
    "API_KEY = \"893d7471304c5edf436c8ba60781762c\"\n",
    "POOL_ADDRESS = \"0x88e6a0c2ddd26feeb64f039a2c41296fcb3f5640\".lower()\n",
    "START_DATE = date(2024, 8, 1)\n",
    "END_DATE = date(2024, 9, 1)\n",
    "pool_query = \"\"\"query get_pools($pool_id: ID!) {\n",
    "  pools(where: {id: $pool_id}) {\n",
    "    tick\n",
    "    sqrtPrice\n",
    "    liquidity\n",
    "    feeTier\n",
    "    totalValueLockedUSD\n",
    "    totalValueLockedETH\n",
    "    token0 {\n",
    "      symbol\n",
    "      decimals\n",
    "    }\n",
    "    token1 {\n",
    "      symbol\n",
    "      decimals\n",
    "    }\n",
    "  }\n",
    "}\"\"\"\n",
    "# POOL_ADDRESS = \"0xc7bBeC68d12a0d1830360F8Ec58fA599bA1b0e9b\".lower()\n",
    "variables = {'pool_id': POOL_ADDRESS}\n",
    "data_pool = fetch_data_subgraph(API_KEY, pool_query, variables, data_key='pools', first_n=100, batch_size=1000)[0]\n",
    "pool = Pool(pool_address=POOL_ADDRESS,\n",
    "            token0=data_pool['token0']['symbol'],\n",
    "            token1=data_pool['token1']['symbol'],\n",
    "            decimals0=data_pool['token0']['decimals'],\n",
    "            decimals1=data_pool['token1']['decimals'],\n",
    "            fee_tier=data_pool['feeTier'],\n",
    "            sqrt_price_x96=data_pool[\"sqrtPrice\"])"
   ]
  },
  {
   "cell_type": "code",
   "execution_count": 2,
   "metadata": {},
   "outputs": [
    {
     "name": "stdout",
     "output_type": "stream",
     "text": [
      "USDC WETH\n"
     ]
    }
   ],
   "source": [
    "# Example usage\n",
    "print(pool.token0, pool.token1)\n",
    "df_liquidity = pd.read_parquet(\n",
    "        \"/Users/gnapsamuel/Documents/AMM/proteus-LP-backtesting/data/liquidity_data.parquet\"\n",
    "    )\n"
   ]
  },
  {
   "cell_type": "code",
   "execution_count": 3,
   "metadata": {},
   "outputs": [],
   "source": [
    "initial_capital_amount_0 = 1 #ETH\n",
    "initial_capital_amount_1 = float(df_liquidity.iloc[0]['active_price_inverted'])\n",
    "initial_capital_USD = initial_capital_amount_0*(initial_capital_amount_1/initial_capital_amount_0) + initial_capital_amount_1\n",
    "tick_range = 50\n",
    "rebalance_cost = 0.0001"
   ]
  },
  {
   "cell_type": "code",
   "execution_count": 4,
   "metadata": {},
   "outputs": [],
   "source": [
    "current_tick = int(df_liquidity.iloc[0]['active_tick_adjusted'])\n",
    "lower_tick = int(current_tick - tick_range)\n",
    "upper_tick = int(current_tick + tick_range)"
   ]
  },
  {
   "cell_type": "code",
   "execution_count": 50,
   "metadata": {},
   "outputs": [],
   "source": [
    "initial_capital_amount_0 = 1000\n",
    "initial_capital_amount_1 = .5409"
   ]
  },
  {
   "cell_type": "code",
   "execution_count": 51,
   "metadata": {},
   "outputs": [],
   "source": [
    "lower_tick = 200070\n",
    "upper_tick = 202250\n",
    "current_tick = 201101"
   ]
  },
  {
   "cell_type": "code",
   "execution_count": 52,
   "metadata": {},
   "outputs": [],
   "source": [
    "sqrt_ratio_x96 = liquidity_calculator.get_sqrt_ratio_at_tick(current_tick)\n",
    "sqrt_ratio_a_x96 = liquidity_calculator.get_sqrt_ratio_at_tick(lower_tick)\n",
    "sqrt_ratio_b_x96 = liquidity_calculator.get_sqrt_ratio_at_tick(upper_tick)"
   ]
  },
  {
   "cell_type": "code",
   "execution_count": 53,
   "metadata": {},
   "outputs": [],
   "source": [
    "amount0 = initial_capital_amount_0 * (10**pool.decimals0)\n",
    "amount1 = initial_capital_amount_1 * (10**pool.decimals1)"
   ]
  },
  {
   "cell_type": "code",
   "execution_count": 55,
   "metadata": {},
   "outputs": [],
   "source": [
    "liquidity0 = liquidity_calculator.get_liquidity_for_amount0(sqrt_ratio_x96, sqrt_ratio_b_x96, amount0)"
   ]
  },
  {
   "cell_type": "code",
   "execution_count": 56,
   "metadata": {},
   "outputs": [
    {
     "data": {
      "text/plain": [
       "416659080672654"
      ]
     },
     "execution_count": 56,
     "metadata": {},
     "output_type": "execute_result"
    }
   ],
   "source": [
    "liquidity0"
   ]
  },
  {
   "cell_type": "code",
   "execution_count": 57,
   "metadata": {},
   "outputs": [
    {
     "data": {
      "text/plain": [
       "-104243102075"
      ]
     },
     "execution_count": 57,
     "metadata": {},
     "output_type": "execute_result"
    }
   ],
   "source": [
    "416554837570579-liquidity0"
   ]
  },
  {
   "cell_type": "code",
   "execution_count": 30,
   "metadata": {},
   "outputs": [],
   "source": [
    "liquidity_calculator = LiquidityPeriphery(pool)\n",
    "sqrt_ratio_x96, sqrt_ratio_a_x96, sqrt_ratio_b_x96, amount0, amount1, liquidity = liquidity_calculator.get_liquidity_for_amounts(initial_capital_amount_0, initial_capital_amount_1, lower_tick, upper_tick, current_tick)"
   ]
  },
  {
   "cell_type": "code",
   "execution_count": null,
   "metadata": {},
   "outputs": [],
   "source": [
    "position_liq"
   ]
  },
  {
   "cell_type": "code",
   "execution_count": 19,
   "metadata": {},
   "outputs": [
    {
     "data": {
      "text/plain": [
       "250987612589.0"
      ]
     },
     "execution_count": 19,
     "metadata": {},
     "output_type": "execute_result"
    }
   ],
   "source": [
    "liquidity"
   ]
  },
  {
   "cell_type": "code",
   "execution_count": 27,
   "metadata": {},
   "outputs": [
    {
     "data": {
      "text/plain": [
       "416303849957990.0"
      ]
     },
     "execution_count": 27,
     "metadata": {},
     "output_type": "execute_result"
    }
   ],
   "source": [
    "416554837570579-liquidity"
   ]
  },
  {
   "cell_type": "code",
   "execution_count": 11,
   "metadata": {},
   "outputs": [],
   "source": [
    "df_liquidity_s = df_liquidity.loc[df_liquidity['block_number'].isin(df_liquidity.block_number.unique()[:10])]"
   ]
  },
  {
   "cell_type": "code",
   "execution_count": 13,
   "metadata": {},
   "outputs": [
    {
     "data": {
      "text/plain": [
       "10"
      ]
     },
     "execution_count": 13,
     "metadata": {},
     "output_type": "execute_result"
    }
   ],
   "source": [
    "df_liquidity_s['block_number'].nunique()"
   ]
  },
  {
   "cell_type": "code",
   "execution_count": 15,
   "metadata": {},
   "outputs": [
    {
     "data": {
      "text/html": [
       "<div>\n",
       "<style scoped>\n",
       "    .dataframe tbody tr th:only-of-type {\n",
       "        vertical-align: middle;\n",
       "    }\n",
       "\n",
       "    .dataframe tbody tr th {\n",
       "        vertical-align: top;\n",
       "    }\n",
       "\n",
       "    .dataframe thead th {\n",
       "        text-align: right;\n",
       "    }\n",
       "</style>\n",
       "<table border=\"1\" class=\"dataframe\">\n",
       "  <thead>\n",
       "    <tr style=\"text-align: right;\">\n",
       "      <th></th>\n",
       "      <th>block_number</th>\n",
       "      <th>block_timestamp</th>\n",
       "      <th>cumulative_dollar_volume</th>\n",
       "      <th>date</th>\n",
       "      <th>datetime</th>\n",
       "      <th>block</th>\n",
       "      <th>active_tick</th>\n",
       "      <th>tick</th>\n",
       "      <th>liquidity</th>\n",
       "      <th>price</th>\n",
       "      <th>amount0</th>\n",
       "      <th>amount1</th>\n",
       "      <th>amount0_real</th>\n",
       "      <th>amount1_real</th>\n",
       "      <th>active_tick_adjusted</th>\n",
       "      <th>sb</th>\n",
       "      <th>sa</th>\n",
       "      <th>active_price</th>\n",
       "      <th>active_price_inverted</th>\n",
       "      <th>amount_locked</th>\n",
       "      <th>amount_locked_USDC</th>\n",
       "    </tr>\n",
       "  </thead>\n",
       "  <tbody>\n",
       "    <tr>\n",
       "      <th>0</th>\n",
       "      <td>18909995</td>\n",
       "      <td>1704080591</td>\n",
       "      <td>2.002804e+07</td>\n",
       "      <td>2024-01-01</td>\n",
       "      <td>2024-01-01 03:43:11</td>\n",
       "      <td>18909995</td>\n",
       "      <td>199011</td>\n",
       "      <td>198510</td>\n",
       "      <td>7.536409e+18</td>\n",
       "      <td>2394.700859</td>\n",
       "      <td>1.843444e+11</td>\n",
       "      <td>7.701861e+19</td>\n",
       "      <td>0.000000</td>\n",
       "      <td>77.018615</td>\n",
       "      <td>199010.0</td>\n",
       "      <td>198010</td>\n",
       "      <td>199010</td>\n",
       "      <td>0.000439</td>\n",
       "      <td>2277.687846</td>\n",
       "      <td>175424.363256</td>\n",
       "      <td>3.257797e+07</td>\n",
       "    </tr>\n",
       "    <tr>\n",
       "      <th>1</th>\n",
       "      <td>18909995</td>\n",
       "      <td>1704080591</td>\n",
       "      <td>2.002804e+07</td>\n",
       "      <td>2024-01-01</td>\n",
       "      <td>2024-01-01 03:43:11</td>\n",
       "      <td>18909995</td>\n",
       "      <td>199011</td>\n",
       "      <td>198520</td>\n",
       "      <td>7.537610e+18</td>\n",
       "      <td>2392.307475</td>\n",
       "      <td>1.842816e+11</td>\n",
       "      <td>7.706941e+19</td>\n",
       "      <td>0.000000</td>\n",
       "      <td>77.069413</td>\n",
       "      <td>199010.0</td>\n",
       "      <td>198020</td>\n",
       "      <td>199020</td>\n",
       "      <td>0.000439</td>\n",
       "      <td>2277.687846</td>\n",
       "      <td>175540.064970</td>\n",
       "      <td>3.257797e+07</td>\n",
       "    </tr>\n",
       "    <tr>\n",
       "      <th>2</th>\n",
       "      <td>18909995</td>\n",
       "      <td>1704080591</td>\n",
       "      <td>2.002804e+07</td>\n",
       "      <td>2024-01-01</td>\n",
       "      <td>2024-01-01 03:43:11</td>\n",
       "      <td>18909995</td>\n",
       "      <td>199011</td>\n",
       "      <td>198530</td>\n",
       "      <td>8.531228e+18</td>\n",
       "      <td>2389.916483</td>\n",
       "      <td>2.084696e+11</td>\n",
       "      <td>8.727243e+19</td>\n",
       "      <td>0.000000</td>\n",
       "      <td>87.272430</td>\n",
       "      <td>199010.0</td>\n",
       "      <td>198030</td>\n",
       "      <td>199030</td>\n",
       "      <td>0.000439</td>\n",
       "      <td>2277.687846</td>\n",
       "      <td>198779.352993</td>\n",
       "      <td>3.257797e+07</td>\n",
       "    </tr>\n",
       "    <tr>\n",
       "      <th>3</th>\n",
       "      <td>18909995</td>\n",
       "      <td>1704080591</td>\n",
       "      <td>2.002804e+07</td>\n",
       "      <td>2024-01-01</td>\n",
       "      <td>2024-01-01 03:43:11</td>\n",
       "      <td>18909995</td>\n",
       "      <td>199011</td>\n",
       "      <td>198540</td>\n",
       "      <td>8.561083e+18</td>\n",
       "      <td>2387.527880</td>\n",
       "      <td>2.090945e+11</td>\n",
       "      <td>8.762163e+19</td>\n",
       "      <td>0.000000</td>\n",
       "      <td>87.621631</td>\n",
       "      <td>199010.0</td>\n",
       "      <td>198040</td>\n",
       "      <td>199040</td>\n",
       "      <td>0.000439</td>\n",
       "      <td>2277.687846</td>\n",
       "      <td>199574.724409</td>\n",
       "      <td>3.257797e+07</td>\n",
       "    </tr>\n",
       "    <tr>\n",
       "      <th>4</th>\n",
       "      <td>18909995</td>\n",
       "      <td>1704080591</td>\n",
       "      <td>2.002804e+07</td>\n",
       "      <td>2024-01-01</td>\n",
       "      <td>2024-01-01 03:43:11</td>\n",
       "      <td>18909995</td>\n",
       "      <td>199011</td>\n",
       "      <td>198550</td>\n",
       "      <td>9.407277e+18</td>\n",
       "      <td>2385.141665</td>\n",
       "      <td>2.296470e+11</td>\n",
       "      <td>9.633048e+19</td>\n",
       "      <td>0.000000</td>\n",
       "      <td>96.330476</td>\n",
       "      <td>199010.0</td>\n",
       "      <td>198050</td>\n",
       "      <td>199050</td>\n",
       "      <td>0.000439</td>\n",
       "      <td>2277.687846</td>\n",
       "      <td>219410.754242</td>\n",
       "      <td>3.257797e+07</td>\n",
       "    </tr>\n",
       "    <tr>\n",
       "      <th>...</th>\n",
       "      <td>...</td>\n",
       "      <td>...</td>\n",
       "      <td>...</td>\n",
       "      <td>...</td>\n",
       "      <td>...</td>\n",
       "      <td>...</td>\n",
       "      <td>...</td>\n",
       "      <td>...</td>\n",
       "      <td>...</td>\n",
       "      <td>...</td>\n",
       "      <td>...</td>\n",
       "      <td>...</td>\n",
       "      <td>...</td>\n",
       "      <td>...</td>\n",
       "      <td>...</td>\n",
       "      <td>...</td>\n",
       "      <td>...</td>\n",
       "      <td>...</td>\n",
       "      <td>...</td>\n",
       "      <td>...</td>\n",
       "      <td>...</td>\n",
       "    </tr>\n",
       "    <tr>\n",
       "      <th>1005</th>\n",
       "      <td>18917177</td>\n",
       "      <td>1704167867</td>\n",
       "      <td>2.007194e+08</td>\n",
       "      <td>2024-01-02</td>\n",
       "      <td>2024-01-02 03:57:47</td>\n",
       "      <td>18917177</td>\n",
       "      <td>198538</td>\n",
       "      <td>198990</td>\n",
       "      <td>1.839546e+19</td>\n",
       "      <td>2282.475776</td>\n",
       "      <td>4.392923e+11</td>\n",
       "      <td>1.925593e+20</td>\n",
       "      <td>439292.268649</td>\n",
       "      <td>0.000000</td>\n",
       "      <td>198530.0</td>\n",
       "      <td>198490</td>\n",
       "      <td>199490</td>\n",
       "      <td>0.000419</td>\n",
       "      <td>2388.005409</td>\n",
       "      <td>439292.268649</td>\n",
       "      <td>2.274335e+07</td>\n",
       "    </tr>\n",
       "    <tr>\n",
       "      <th>1006</th>\n",
       "      <td>18917177</td>\n",
       "      <td>1704167867</td>\n",
       "      <td>2.007194e+08</td>\n",
       "      <td>2024-01-02</td>\n",
       "      <td>2024-01-02 03:57:47</td>\n",
       "      <td>18917177</td>\n",
       "      <td>198538</td>\n",
       "      <td>199000</td>\n",
       "      <td>1.841580e+19</td>\n",
       "      <td>2280.194555</td>\n",
       "      <td>4.395580e+11</td>\n",
       "      <td>1.928685e+20</td>\n",
       "      <td>439557.990635</td>\n",
       "      <td>0.000000</td>\n",
       "      <td>198530.0</td>\n",
       "      <td>198500</td>\n",
       "      <td>199500</td>\n",
       "      <td>0.000419</td>\n",
       "      <td>2388.005409</td>\n",
       "      <td>439557.990635</td>\n",
       "      <td>2.274335e+07</td>\n",
       "    </tr>\n",
       "    <tr>\n",
       "      <th>1007</th>\n",
       "      <td>18917177</td>\n",
       "      <td>1704167867</td>\n",
       "      <td>2.007194e+08</td>\n",
       "      <td>2024-01-02</td>\n",
       "      <td>2024-01-02 03:57:47</td>\n",
       "      <td>18917177</td>\n",
       "      <td>198538</td>\n",
       "      <td>199010</td>\n",
       "      <td>1.232057e+19</td>\n",
       "      <td>2277.915614</td>\n",
       "      <td>2.939269e+11</td>\n",
       "      <td>1.290978e+20</td>\n",
       "      <td>293926.884098</td>\n",
       "      <td>0.000000</td>\n",
       "      <td>198530.0</td>\n",
       "      <td>198510</td>\n",
       "      <td>199510</td>\n",
       "      <td>0.000419</td>\n",
       "      <td>2388.005409</td>\n",
       "      <td>293926.884098</td>\n",
       "      <td>2.274335e+07</td>\n",
       "    </tr>\n",
       "    <tr>\n",
       "      <th>1008</th>\n",
       "      <td>18917177</td>\n",
       "      <td>1704167867</td>\n",
       "      <td>2.007194e+08</td>\n",
       "      <td>2024-01-02</td>\n",
       "      <td>2024-01-02 03:57:47</td>\n",
       "      <td>18917177</td>\n",
       "      <td>198538</td>\n",
       "      <td>199020</td>\n",
       "      <td>1.196945e+19</td>\n",
       "      <td>2275.638951</td>\n",
       "      <td>2.854077e+11</td>\n",
       "      <td>1.254814e+20</td>\n",
       "      <td>285407.728576</td>\n",
       "      <td>0.000000</td>\n",
       "      <td>198530.0</td>\n",
       "      <td>198520</td>\n",
       "      <td>199520</td>\n",
       "      <td>0.000419</td>\n",
       "      <td>2388.005409</td>\n",
       "      <td>285407.728576</td>\n",
       "      <td>2.274335e+07</td>\n",
       "    </tr>\n",
       "    <tr>\n",
       "      <th>1009</th>\n",
       "      <td>18917177</td>\n",
       "      <td>1704167867</td>\n",
       "      <td>2.007194e+08</td>\n",
       "      <td>2024-01-02</td>\n",
       "      <td>2024-01-02 03:57:47</td>\n",
       "      <td>18917177</td>\n",
       "      <td>198538</td>\n",
       "      <td>199030</td>\n",
       "      <td>1.196945e+19</td>\n",
       "      <td>2273.364563</td>\n",
       "      <td>2.852651e+11</td>\n",
       "      <td>1.255442e+20</td>\n",
       "      <td>285265.067513</td>\n",
       "      <td>0.000000</td>\n",
       "      <td>198530.0</td>\n",
       "      <td>198530</td>\n",
       "      <td>199530</td>\n",
       "      <td>0.000419</td>\n",
       "      <td>2388.005409</td>\n",
       "      <td>285265.067513</td>\n",
       "      <td>2.274335e+07</td>\n",
       "    </tr>\n",
       "  </tbody>\n",
       "</table>\n",
       "<p>1010 rows × 21 columns</p>\n",
       "</div>"
      ],
      "text/plain": [
       "      block_number  block_timestamp  cumulative_dollar_volume        date  \\\n",
       "0         18909995       1704080591              2.002804e+07  2024-01-01   \n",
       "1         18909995       1704080591              2.002804e+07  2024-01-01   \n",
       "2         18909995       1704080591              2.002804e+07  2024-01-01   \n",
       "3         18909995       1704080591              2.002804e+07  2024-01-01   \n",
       "4         18909995       1704080591              2.002804e+07  2024-01-01   \n",
       "...            ...              ...                       ...         ...   \n",
       "1005      18917177       1704167867              2.007194e+08  2024-01-02   \n",
       "1006      18917177       1704167867              2.007194e+08  2024-01-02   \n",
       "1007      18917177       1704167867              2.007194e+08  2024-01-02   \n",
       "1008      18917177       1704167867              2.007194e+08  2024-01-02   \n",
       "1009      18917177       1704167867              2.007194e+08  2024-01-02   \n",
       "\n",
       "                datetime     block  active_tick    tick     liquidity  \\\n",
       "0    2024-01-01 03:43:11  18909995       199011  198510  7.536409e+18   \n",
       "1    2024-01-01 03:43:11  18909995       199011  198520  7.537610e+18   \n",
       "2    2024-01-01 03:43:11  18909995       199011  198530  8.531228e+18   \n",
       "3    2024-01-01 03:43:11  18909995       199011  198540  8.561083e+18   \n",
       "4    2024-01-01 03:43:11  18909995       199011  198550  9.407277e+18   \n",
       "...                  ...       ...          ...     ...           ...   \n",
       "1005 2024-01-02 03:57:47  18917177       198538  198990  1.839546e+19   \n",
       "1006 2024-01-02 03:57:47  18917177       198538  199000  1.841580e+19   \n",
       "1007 2024-01-02 03:57:47  18917177       198538  199010  1.232057e+19   \n",
       "1008 2024-01-02 03:57:47  18917177       198538  199020  1.196945e+19   \n",
       "1009 2024-01-02 03:57:47  18917177       198538  199030  1.196945e+19   \n",
       "\n",
       "            price       amount0       amount1   amount0_real  amount1_real  \\\n",
       "0     2394.700859  1.843444e+11  7.701861e+19       0.000000     77.018615   \n",
       "1     2392.307475  1.842816e+11  7.706941e+19       0.000000     77.069413   \n",
       "2     2389.916483  2.084696e+11  8.727243e+19       0.000000     87.272430   \n",
       "3     2387.527880  2.090945e+11  8.762163e+19       0.000000     87.621631   \n",
       "4     2385.141665  2.296470e+11  9.633048e+19       0.000000     96.330476   \n",
       "...           ...           ...           ...            ...           ...   \n",
       "1005  2282.475776  4.392923e+11  1.925593e+20  439292.268649      0.000000   \n",
       "1006  2280.194555  4.395580e+11  1.928685e+20  439557.990635      0.000000   \n",
       "1007  2277.915614  2.939269e+11  1.290978e+20  293926.884098      0.000000   \n",
       "1008  2275.638951  2.854077e+11  1.254814e+20  285407.728576      0.000000   \n",
       "1009  2273.364563  2.852651e+11  1.255442e+20  285265.067513      0.000000   \n",
       "\n",
       "      active_tick_adjusted      sb      sa  active_price  \\\n",
       "0                 199010.0  198010  199010      0.000439   \n",
       "1                 199010.0  198020  199020      0.000439   \n",
       "2                 199010.0  198030  199030      0.000439   \n",
       "3                 199010.0  198040  199040      0.000439   \n",
       "4                 199010.0  198050  199050      0.000439   \n",
       "...                    ...     ...     ...           ...   \n",
       "1005              198530.0  198490  199490      0.000419   \n",
       "1006              198530.0  198500  199500      0.000419   \n",
       "1007              198530.0  198510  199510      0.000419   \n",
       "1008              198530.0  198520  199520      0.000419   \n",
       "1009              198530.0  198530  199530      0.000419   \n",
       "\n",
       "      active_price_inverted  amount_locked  amount_locked_USDC  \n",
       "0               2277.687846  175424.363256        3.257797e+07  \n",
       "1               2277.687846  175540.064970        3.257797e+07  \n",
       "2               2277.687846  198779.352993        3.257797e+07  \n",
       "3               2277.687846  199574.724409        3.257797e+07  \n",
       "4               2277.687846  219410.754242        3.257797e+07  \n",
       "...                     ...            ...                 ...  \n",
       "1005            2388.005409  439292.268649        2.274335e+07  \n",
       "1006            2388.005409  439557.990635        2.274335e+07  \n",
       "1007            2388.005409  293926.884098        2.274335e+07  \n",
       "1008            2388.005409  285407.728576        2.274335e+07  \n",
       "1009            2388.005409  285265.067513        2.274335e+07  \n",
       "\n",
       "[1010 rows x 21 columns]"
      ]
     },
     "execution_count": 15,
     "metadata": {},
     "output_type": "execute_result"
    }
   ],
   "source": [
    "df_liquidity_s"
   ]
  },
  {
   "cell_type": "code",
   "execution_count": 14,
   "metadata": {},
   "outputs": [
    {
     "name": "stderr",
     "output_type": "stream",
     "text": [
      "2024-09-29 18:59:18,921 - LiquidityProvisionBacktester - INFO - Starting backtest with 9 blocks\n",
      "2024-09-29 18:59:18,921 - LiquidityProvisionBacktester - INFO - Starting backtest with 9 blocks\n"
     ]
    },
    {
     "name": "stdout",
     "output_type": "stream",
     "text": [
      "Error at block 18909995: name 'capital_USD' is not defined\n",
      "Error at block 18911563: name 'capital_USD' is not defined\n",
      "Error at block 18912951: name 'capital_USD' is not defined\n",
      "Error at block 18913979: name 'capital_USD' is not defined\n",
      "Error at block 18914758: name 'capital_USD' is not defined\n",
      "Error at block 18915118: name 'capital_USD' is not defined\n",
      "Error at block 18915921: name 'capital_USD' is not defined\n",
      "Error at block 18916179: name 'capital_USD' is not defined\n",
      "Error at block 18916530: name 'capital_USD' is not defined\n"
     ]
    }
   ],
   "source": [
    "backtester = LiquidityProvisionBacktester(pool, liquidity_calculator)\n",
    "results_df = backtester.backtest_liquidity_provision(df_liquidity_s,\n",
    "                                                     initial_capital_USD, \n",
    "                                                     initial_capital_amount_0,\n",
    "                                                     initial_capital_amount_1,\n",
    "                                                     tick_range)"
   ]
  },
  {
   "cell_type": "markdown",
   "metadata": {},
   "source": []
  },
  {
   "cell_type": "code",
   "execution_count": null,
   "metadata": {},
   "outputs": [],
   "source": []
  },
  {
   "cell_type": "code",
   "execution_count": null,
   "metadata": {},
   "outputs": [],
   "source": []
  },
  {
   "cell_type": "code",
   "execution_count": null,
   "metadata": {},
   "outputs": [],
   "source": []
  },
  {
   "cell_type": "code",
   "execution_count": null,
   "metadata": {},
   "outputs": [],
   "source": []
  },
  {
   "cell_type": "code",
   "execution_count": null,
   "metadata": {},
   "outputs": [],
   "source": []
  },
  {
   "cell_type": "code",
   "execution_count": null,
   "metadata": {},
   "outputs": [],
   "source": []
  }
 ],
 "metadata": {
  "kernelspec": {
   "display_name": ".venv",
   "language": "python",
   "name": "python3"
  },
  "language_info": {
   "codemirror_mode": {
    "name": "ipython",
    "version": 3
   },
   "file_extension": ".py",
   "mimetype": "text/x-python",
   "name": "python",
   "nbconvert_exporter": "python",
   "pygments_lexer": "ipython3",
   "version": "3.12.4"
  }
 },
 "nbformat": 4,
 "nbformat_minor": 2
}
