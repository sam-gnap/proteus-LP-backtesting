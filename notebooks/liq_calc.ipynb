{
 "cells": [
  {
   "cell_type": "code",
   "execution_count": 1,
   "metadata": {},
   "outputs": [],
   "source": [
    "from datetime import date\n",
    "import pandas as pd\n",
    "import numpy as np\n",
    "from math import sqrt\n",
    "from src.models.liquidity_distribution import Pool, LiquidityPeriphery \n",
    "import warnings\n",
    "warnings.filterwarnings('ignore')\n",
    "from src.data_processing.fetch_data import fetch_data_subgraph\n",
    "pd.set_option(\"display.max_columns\",100)\n",
    "%load_ext autoreload\n",
    "%autoreload 2\n",
    "from src.data_processing.fetch_data import fetch_oku_liquidity\n",
    "POOLS = [\n",
    "    (3, \"0x8ad599c3a0ff1de082011efddc58f1908eb6e6d8\", \"v3 USDC/ETH 0.3%\", ),\n",
    "    (3, \"0x88e6a0c2ddd26feeb64f039a2c41296fcb3f5640\", \"v3 USDC/ETH 0.05%\", ),\n",
    "]\n",
    "API_KEY = \"893d7471304c5edf436c8ba60781762c\"\n",
    "POOL_ADDRESS = \"0x88e6a0c2ddd26feeb64f039a2c41296fcb3f5640\".lower()"
   ]
  },
  {
   "cell_type": "code",
   "execution_count": 2,
   "metadata": {},
   "outputs": [],
   "source": [
    "data = fetch_oku_liquidity(pool_address=POOL_ADDRESS, block_number=20719648)"
   ]
  },
  {
   "cell_type": "code",
   "execution_count": 3,
   "metadata": {},
   "outputs": [
    {
     "name": "stdout",
     "output_type": "stream",
     "text": [
      "Fetched 1000 records\n",
      "Fetched 1241 records\n"
     ]
    }
   ],
   "source": [
    "query = \"\"\"\n",
    "query ($poolAddress: String!, $skip: Int!) {\n",
    "  poolDayDatas(\n",
    "    where: {pool: $poolAddress}\n",
    "    first: 1000\n",
    "    skip: $skip\n",
    "    orderBy: date\n",
    "    orderDirection: desc\n",
    "  ) {\n",
    "    date\n",
    "    feesUSD\n",
    "    liquidity\n",
    "    sqrtPrice\n",
    "    token0Price\n",
    "    token1Price\n",
    "    tvlUSD\n",
    "    volumeToken0\n",
    "    volumeToken1\n",
    "    volumeUSD\n",
    "    txCount\n",
    "  }\n",
    "}\n",
    "\"\"\"\n",
    "\n",
    "# Variables for the query\n",
    "variables = {\n",
    "    \"poolAddress\": POOL_ADDRESS,\n",
    "    \"skip\": 0\n",
    "}\n",
    "\n",
    "# Fetch the data\n",
    "pool_data = fetch_data_subgraph(\n",
    "    API_KEY,\n",
    "    query,\n",
    "    variables=variables,\n",
    "    data_key=\"poolDayDatas\",\n",
    "    first_n=None,  # Set this to a number if you want to limit the results\n",
    "    batch_size=1000\n",
    ")"
   ]
  },
  {
   "cell_type": "code",
   "execution_count": 4,
   "metadata": {},
   "outputs": [],
   "source": [
    "df = pd.DataFrame(pool_data)"
   ]
  },
  {
   "cell_type": "code",
   "execution_count": 5,
   "metadata": {},
   "outputs": [
    {
     "name": "stdout",
     "output_type": "stream",
     "text": [
      "Fetched 1 records\n"
     ]
    }
   ],
   "source": [
    "pool_query = \"\"\"query get_pools($pool_id: ID!) {\n",
    "  pools(where: {id: $pool_id}) {\n",
    "    tick\n",
    "    sqrtPrice\n",
    "    liquidity\n",
    "    feeTier\n",
    "    totalValueLockedUSD\n",
    "    totalValueLockedETH\n",
    "    token0 {\n",
    "      symbol\n",
    "      decimals\n",
    "    }\n",
    "    token1 {\n",
    "      symbol\n",
    "      decimals\n",
    "    }\n",
    "  }\n",
    "}\"\"\"\n",
    "# POOL_ADDRESS = \"0xc7bBeC68d12a0d1830360F8Ec58fA599bA1b0e9b\".lower()\n",
    "variables = {'pool_id': POOL_ADDRESS}\n",
    "data_pool = fetch_data_subgraph(API_KEY, pool_query, variables, data_key='pools', first_n=100, batch_size=1000)[0]\n",
    "\n",
    "l = pd.read_parquet(\"/Users/gnapsamuel/Documents/AMM/proteus-LP-backtesting/data/uniswap/USDC-WETH/fee_500/liquidity/liquidity_distribution_20773531.parquet\")\n",
    "\n",
    "pool = Pool(pool_address=POOL_ADDRESS,\n",
    "            token0=data_pool['token0']['symbol'],\n",
    "            token1=data_pool['token1']['symbol'],\n",
    "            decimals0=data_pool['token0']['decimals'],\n",
    "            decimals1=data_pool['token1']['decimals'],\n",
    "            fee_tier=data_pool['feeTier'],\n",
    "            sqrt_price_x96=data_pool[\"sqrtPrice\"])\n"
   ]
  },
  {
   "cell_type": "code",
   "execution_count": 10,
   "metadata": {},
   "outputs": [
    {
     "name": "stdout",
     "output_type": "stream",
     "text": [
      "USDC WETH\n"
     ]
    }
   ],
   "source": [
    "# Example usage\n",
    "print(pool.token0, pool.token1)\n",
    "amount0_raw = 2328*2\n",
    "amount1_raw = 1*2\n",
    "current_price = 2328\n",
    "lower_price = 2217\n",
    "upper_price = 2450\n",
    "\n",
    "\n",
    "lower_tick = 198280\n",
    "upper_tick = 199280\n",
    "current_tick = 198780\n",
    "\n",
    "calculator = LiquidityPeriphery(pool)\n",
    "sqrt_ratio_x96, sqrt_ratio_a_x96, sqrt_ratio_b_x96, amount0, amount1, liquidity = calculator.calculate_liquidity(amount0_raw, amount1_raw, lower_tick, upper_tick, current_tick)\n"
   ]
  },
  {
   "cell_type": "code",
   "execution_count": 17,
   "metadata": {},
   "outputs": [
    {
     "data": {
      "text/plain": [
       "3906149178000611"
      ]
     },
     "execution_count": 17,
     "metadata": {},
     "output_type": "execute_result"
    }
   ],
   "source": [
    "liquidity"
   ]
  },
  {
   "cell_type": "code",
   "execution_count": 11,
   "metadata": {},
   "outputs": [
    {
     "data": {
      "text/plain": [
       "(1641030417809999877662689105714598,\n",
       " 1600515232939513656535723291125537,\n",
       " 1682571197546006325973824888772292,\n",
       " 4656000000,\n",
       " 2000000000000000000,\n",
       " 3906149178000611)"
      ]
     },
     "execution_count": 11,
     "metadata": {},
     "output_type": "execute_result"
    }
   ],
   "source": [
    "sqrt_ratio_x96, sqrt_ratio_a_x96, sqrt_ratio_b_x96, amount0, amount1, liquidity"
   ]
  },
  {
   "cell_type": "code",
   "execution_count": 12,
   "metadata": {},
   "outputs": [],
   "source": [
    "amount0, amount1 = calculator.get_amounts_for_liquidity(sqrt_ratio_x96, sqrt_ratio_a_x96, sqrt_ratio_b_x96, liquidity)"
   ]
  },
  {
   "cell_type": "code",
   "execution_count": 13,
   "metadata": {},
   "outputs": [
    {
     "data": {
      "text/plain": [
       "(4656.0, 1.9975)"
      ]
     },
     "execution_count": 13,
     "metadata": {},
     "output_type": "execute_result"
    }
   ],
   "source": [
    "amount0, amount1"
   ]
  },
  {
   "cell_type": "code",
   "execution_count": 15,
   "metadata": {},
   "outputs": [
    {
     "data": {
      "text/plain": [
       "0.0004956132743176781"
      ]
     },
     "execution_count": 15,
     "metadata": {},
     "output_type": "execute_result"
    }
   ],
   "source": [
    "(3906149178000611/7.881445837741723e+20)*100"
   ]
  },
  {
   "cell_type": "code",
   "execution_count": null,
   "metadata": {},
   "outputs": [],
   "source": []
  }
 ],
 "metadata": {
  "kernelspec": {
   "display_name": ".venv",
   "language": "python",
   "name": "python3"
  },
  "language_info": {
   "codemirror_mode": {
    "name": "ipython",
    "version": 3
   },
   "file_extension": ".py",
   "mimetype": "text/x-python",
   "name": "python",
   "nbconvert_exporter": "python",
   "pygments_lexer": "ipython3",
   "version": "3.12.4"
  }
 },
 "nbformat": 4,
 "nbformat_minor": 2
}
